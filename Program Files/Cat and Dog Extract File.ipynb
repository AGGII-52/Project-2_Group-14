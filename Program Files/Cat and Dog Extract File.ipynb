{
 "cells": [
  {
   "cell_type": "code",
   "execution_count": 4,
   "metadata": {},
   "outputs": [],
   "source": [
    "\n",
    "import numpy as np\n",
    "import pandas as pd\n",
    "import os"
   ]
  },
  {
   "cell_type": "code",
   "execution_count": 11,
   "metadata": {},
   "outputs": [
    {
     "data": {
      "text/html": [
       "<div>\n",
       "<style scoped>\n",
       "    .dataframe tbody tr th:only-of-type {\n",
       "        vertical-align: middle;\n",
       "    }\n",
       "\n",
       "    .dataframe tbody tr th {\n",
       "        vertical-align: top;\n",
       "    }\n",
       "\n",
       "    .dataframe thead th {\n",
       "        text-align: right;\n",
       "    }\n",
       "</style>\n",
       "<table border=\"1\" class=\"dataframe\">\n",
       "  <thead>\n",
       "    <tr style=\"text-align: right;\">\n",
       "      <th></th>\n",
       "      <th>Animal ID</th>\n",
       "      <th>Description/Breed</th>\n",
       "      <th>Sex</th>\n",
       "      <th>Intake</th>\n",
       "      <th>Shelter County</th>\n",
       "    </tr>\n",
       "  </thead>\n",
       "  <tbody>\n",
       "    <tr>\n",
       "      <th>0</th>\n",
       "      <td>A124749</td>\n",
       "      <td>DSH Brw Tabby W/Wht</td>\n",
       "      <td>Female</td>\n",
       "      <td>Stray</td>\n",
       "      <td>Rowan</td>\n",
       "    </tr>\n",
       "    <tr>\n",
       "      <th>1</th>\n",
       "      <td>A124782</td>\n",
       "      <td>DSH Brn Tab</td>\n",
       "      <td>Male</td>\n",
       "      <td>Stray</td>\n",
       "      <td>Rowan</td>\n",
       "    </tr>\n",
       "    <tr>\n",
       "      <th>2</th>\n",
       "      <td>A124797</td>\n",
       "      <td>DSH Silver Tab</td>\n",
       "      <td>Male</td>\n",
       "      <td>Stray</td>\n",
       "      <td>Rowan</td>\n",
       "    </tr>\n",
       "    <tr>\n",
       "      <th>3</th>\n",
       "      <td>A124800</td>\n",
       "      <td>DSH Dilute Torti</td>\n",
       "      <td>Female</td>\n",
       "      <td>Stray</td>\n",
       "      <td>Rowan</td>\n",
       "    </tr>\n",
       "    <tr>\n",
       "      <th>4</th>\n",
       "      <td>A124661</td>\n",
       "      <td>DSH Blk/Wht</td>\n",
       "      <td>Male</td>\n",
       "      <td>Stray</td>\n",
       "      <td>Rowan</td>\n",
       "    </tr>\n",
       "  </tbody>\n",
       "</table>\n",
       "</div>"
      ],
      "text/plain": [
       "  Animal ID    Description/Breed     Sex Intake Shelter County\n",
       "0   A124749  DSH Brw Tabby W/Wht  Female  Stray          Rowan\n",
       "1   A124782          DSH Brn Tab    Male  Stray          Rowan\n",
       "2   A124797       DSH Silver Tab    Male  Stray          Rowan\n",
       "3   A124800     DSH Dilute Torti  Female  Stray          Rowan\n",
       "4   A124661          DSH Blk/Wht    Male  Stray          Rowan"
      ]
     },
     "execution_count": 11,
     "metadata": {},
     "output_type": "execute_result"
    }
   ],
   "source": [
    "path_to_file = os.path.join(\".\", \"Resources\", \"Rowan County Adoptable Dog List - Cat Info.csv\")\n",
    "RCA_cat_df = pd.read_csv(path_to_file)\n",
    "RCA_cat_df.rename(columns = {\"Description\":\"Description/Breed\"}, inplace = True)\n",
    "cleanRCA_cat_df = RCA_cat_df[[\"Animal ID\", \"Description/Breed\", \"Sex\", \"Intake\"]].copy()\n",
    "cleanRCA_cat_df[\"Shelter County\"]= \"Rowan\"\n",
    "cleanRCA_cat_df.head()"
   ]
  },
  {
   "cell_type": "code",
   "execution_count": 12,
   "metadata": {},
   "outputs": [
    {
     "data": {
      "text/html": [
       "<div>\n",
       "<style scoped>\n",
       "    .dataframe tbody tr th:only-of-type {\n",
       "        vertical-align: middle;\n",
       "    }\n",
       "\n",
       "    .dataframe tbody tr th {\n",
       "        vertical-align: top;\n",
       "    }\n",
       "\n",
       "    .dataframe thead th {\n",
       "        text-align: right;\n",
       "    }\n",
       "</style>\n",
       "<table border=\"1\" class=\"dataframe\">\n",
       "  <thead>\n",
       "    <tr style=\"text-align: right;\">\n",
       "      <th></th>\n",
       "      <th>Animal ID</th>\n",
       "      <th>Description/Breed</th>\n",
       "      <th>Sex</th>\n",
       "      <th>Intake</th>\n",
       "      <th>Shelter County</th>\n",
       "    </tr>\n",
       "  </thead>\n",
       "  <tbody>\n",
       "    <tr>\n",
       "      <th>0</th>\n",
       "      <td>A122246</td>\n",
       "      <td>Catahoula Mix</td>\n",
       "      <td>Male</td>\n",
       "      <td>Owner</td>\n",
       "      <td>Rowan</td>\n",
       "    </tr>\n",
       "    <tr>\n",
       "      <th>1</th>\n",
       "      <td>A125012</td>\n",
       "      <td>Chih Mix</td>\n",
       "      <td>Female</td>\n",
       "      <td>Stray</td>\n",
       "      <td>Rowan</td>\n",
       "    </tr>\n",
       "    <tr>\n",
       "      <th>2</th>\n",
       "      <td>A125014</td>\n",
       "      <td>Lab Mix</td>\n",
       "      <td>Male</td>\n",
       "      <td>Stray</td>\n",
       "      <td>Rowan</td>\n",
       "    </tr>\n",
       "    <tr>\n",
       "      <th>3</th>\n",
       "      <td>A125017</td>\n",
       "      <td>Shepherd Mix</td>\n",
       "      <td>Female</td>\n",
       "      <td>Stray</td>\n",
       "      <td>Rowan</td>\n",
       "    </tr>\n",
       "    <tr>\n",
       "      <th>4</th>\n",
       "      <td>A125031</td>\n",
       "      <td>German Shep.</td>\n",
       "      <td>Male</td>\n",
       "      <td>Owner</td>\n",
       "      <td>Rowan</td>\n",
       "    </tr>\n",
       "  </tbody>\n",
       "</table>\n",
       "</div>"
      ],
      "text/plain": [
       "  Animal ID Description/Breed     Sex Intake Shelter County\n",
       "0   A122246     Catahoula Mix    Male  Owner          Rowan\n",
       "1   A125012          Chih Mix  Female  Stray          Rowan\n",
       "2   A125014           Lab Mix    Male  Stray          Rowan\n",
       "3   A125017      Shepherd Mix  Female  Stray          Rowan\n",
       "4   A125031      German Shep.    Male  Owner          Rowan"
      ]
     },
     "execution_count": 12,
     "metadata": {},
     "output_type": "execute_result"
    }
   ],
   "source": [
    "path_to_file = os.path.join(\".\", \"Resources\", \"Rowan County Adoptable Dog List - Dog Info.csv\")\n",
    "RCA_dog_df = pd.read_csv(path_to_file)\n",
    "RCA_dog_df.rename(columns = {\"Breed\":\"Description/Breed\"}, inplace = True)\n",
    "cleanRCA_dog_df = RCA_dog_df[[\"Animal ID\", \"Description/Breed\", \"Sex\", \"Intake\"]].copy()\n",
    "cleanRCA_dog_df[\"Shelter County\"]= \"Rowan\"\n",
    "cleanRCA_dog_df.head()"
   ]
  },
  {
   "cell_type": "code",
   "execution_count": 13,
   "metadata": {},
   "outputs": [
    {
     "data": {
      "text/html": [
       "<div>\n",
       "<style scoped>\n",
       "    .dataframe tbody tr th:only-of-type {\n",
       "        vertical-align: middle;\n",
       "    }\n",
       "\n",
       "    .dataframe tbody tr th {\n",
       "        vertical-align: top;\n",
       "    }\n",
       "\n",
       "    .dataframe thead th {\n",
       "        text-align: right;\n",
       "    }\n",
       "</style>\n",
       "<table border=\"1\" class=\"dataframe\">\n",
       "  <thead>\n",
       "    <tr style=\"text-align: right;\">\n",
       "      <th></th>\n",
       "      <th>Animal ID</th>\n",
       "      <th>Description/Breed</th>\n",
       "      <th>Sex</th>\n",
       "      <th>Intake</th>\n",
       "      <th>Shelter County</th>\n",
       "    </tr>\n",
       "  </thead>\n",
       "  <tbody>\n",
       "    <tr>\n",
       "      <th>0</th>\n",
       "      <td>A395686</td>\n",
       "      <td>GERM SHEPHERD</td>\n",
       "      <td>Female</td>\n",
       "      <td>FIELD</td>\n",
       "      <td>SoCo</td>\n",
       "    </tr>\n",
       "    <tr>\n",
       "      <th>1</th>\n",
       "      <td>A379968</td>\n",
       "      <td>BEAGLE</td>\n",
       "      <td>Neutered</td>\n",
       "      <td>FIELD</td>\n",
       "      <td>SoCo</td>\n",
       "    </tr>\n",
       "    <tr>\n",
       "      <th>2</th>\n",
       "      <td>A315553</td>\n",
       "      <td>LABRADOR RETR/MIX</td>\n",
       "      <td>Spayed</td>\n",
       "      <td>OVER THE COUNTER</td>\n",
       "      <td>SoCo</td>\n",
       "    </tr>\n",
       "    <tr>\n",
       "      <th>3</th>\n",
       "      <td>A398868</td>\n",
       "      <td>GERM SHEPHERD/MIX</td>\n",
       "      <td>Unknown</td>\n",
       "      <td>FLD_CRUEL</td>\n",
       "      <td>SoCo</td>\n",
       "    </tr>\n",
       "    <tr>\n",
       "      <th>4</th>\n",
       "      <td>A374683</td>\n",
       "      <td>DOMESTIC SH</td>\n",
       "      <td>Neutered</td>\n",
       "      <td>OVER THE COUNTER</td>\n",
       "      <td>SoCo</td>\n",
       "    </tr>\n",
       "  </tbody>\n",
       "</table>\n",
       "</div>"
      ],
      "text/plain": [
       "  Animal ID  Description/Breed       Sex            Intake Shelter County\n",
       "0   A395686      GERM SHEPHERD    Female             FIELD           SoCo\n",
       "1   A379968             BEAGLE  Neutered             FIELD           SoCo\n",
       "2   A315553  LABRADOR RETR/MIX    Spayed  OVER THE COUNTER           SoCo\n",
       "3   A398868  GERM SHEPHERD/MIX   Unknown         FLD_CRUEL           SoCo\n",
       "4   A374683        DOMESTIC SH  Neutered  OVER THE COUNTER           SoCo"
      ]
     },
     "execution_count": 13,
     "metadata": {},
     "output_type": "execute_result"
    }
   ],
   "source": [
    "path_to_file = os.path.join(\".\", \"Resources\", \"SoCo-Animal_Shelter_Intake_and_Outcome.csv\")\n",
    "SoCO_animals_df = pd.read_csv(path_to_file)\n",
    "SoCO_animals_df.rename(columns = {\"Breed\":\"Description/Breed\", \"Intake Subtype\":\"Intake\"}, inplace = True)\n",
    "cleanSoCo_animals_df = SoCO_animals_df[[\"Animal ID\", \"Description/Breed\", \"Sex\", \"Intake\"]].copy()\n",
    "cleanSoCo_animals_df[\"Shelter County\"]= \"SoCo\"\n",
    "cleanSoCo_animals_df.head()"
   ]
  },
  {
   "cell_type": "code",
   "execution_count": 16,
   "metadata": {},
   "outputs": [],
   "source": [
    "AnimalStuff = pd.concat([cleanSoCo_animals_df,cleanRCA_dog_df,cleanRCA_cat_df], axis = 0)"
   ]
  },
  {
   "cell_type": "code",
   "execution_count": 15,
   "metadata": {},
   "outputs": [
    {
     "name": "stdout",
     "output_type": "stream",
     "text": [
      "20245\n"
     ]
    }
   ],
   "source": [
    "total = 0\n",
    "\n",
    "for df in [cleanSoCo_animals_df,cleanRCA_dog_df,cleanRCA_cat_df]:\n",
    "    total += df.shape[0]\n",
    "    \n",
    "print(total)    "
   ]
  },
  {
   "cell_type": "code",
   "execution_count": 17,
   "metadata": {},
   "outputs": [],
   "source": [
    "AnimalStuff.to_csv(\"Animanls.csv\")"
   ]
  },
  {
   "cell_type": "code",
   "execution_count": null,
   "metadata": {},
   "outputs": [],
   "source": []
  },
  {
   "cell_type": "code",
   "execution_count": null,
   "metadata": {},
   "outputs": [],
   "source": []
  }
 ],
 "metadata": {
  "kernelspec": {
   "display_name": "Python 3",
   "language": "python",
   "name": "python3"
  },
  "language_info": {
   "codemirror_mode": {
    "name": "ipython",
    "version": 3
   },
   "file_extension": ".py",
   "mimetype": "text/x-python",
   "name": "python",
   "nbconvert_exporter": "python",
   "pygments_lexer": "ipython3",
   "version": "3.8.3"
  }
 },
 "nbformat": 4,
 "nbformat_minor": 4
}
